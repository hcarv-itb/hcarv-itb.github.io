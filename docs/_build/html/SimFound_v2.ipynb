{
 "cells": [
  {
   "cell_type": "markdown",
   "metadata": {},
   "source": [
    "# SFv2 Walkthrough\n",
    "\n",
    "Author: Henrique F. Carvalho (2021)"
   ]
  },
  {
   "cell_type": "markdown",
   "metadata": {},
   "source": [
    "## *Import module*"
   ]
  },
  {
   "cell_type": "code",
   "execution_count": 1,
   "metadata": {},
   "outputs": [
    {
     "data": {
      "text/plain": [
       "<module 'main' from '/media/dataHog/hca/proLig/main.py'>"
      ]
     },
     "execution_count": 1,
     "metadata": {},
     "output_type": "execute_result"
    }
   ],
   "source": [
    "#Import modules\n",
    "import pyemma\n",
    "import os\n",
    "import glob\n",
    "import pandas as pd\n",
    "import numpy as np\n",
    "import sys\n",
    "import importlib\n",
    "import matplotlib.pyplot as plt\n",
    "#Path were classes are stored\n",
    "base_path='/media/dataHog/hca/'\n",
    "sys.path.append(base_path)\n",
    "sys.path.append(base_path+'proLig/')\n",
    "\n",
    "import main\n",
    "#import Trajectory\n",
    "import Discretize\n",
    "import Featurize\n",
    "import plots\n",
    "import tools\n",
    "\n",
    "import warnings\n",
    "warnings.filterwarnings('ignore')\n",
    "\n",
    "importlib.reload(main)\n"
   ]
  },
  {
   "cell_type": "markdown",
   "metadata": {},
   "source": [
    "## **Project and system definition**\n",
    "\n",
    "A project is defined using the ***Project*** module. Defining a *project* spawns all the simulation *systems* (with the help of ***Systems*** generator class).\n",
    "\n",
    "The file structure and file names of the *project* are generated under the **workdir** using a hierarquical nomenclature that is used for system setup, simulation, and analysis. The **results** folder defines where results from the analysis will be outputed.\n",
    "\n",
    "The ***Project*** module accept an arbitrary number of combination of elements, and generates a tree structure of the Cartesian product of ordered set of elements in *hierarchy* (in its current implementation, can be changed to other combinatronics schemes). The limitation resides on the required input files upon simulation execution for all the requested combinations.\n",
    "\n",
    "For a protein-ligand simulation setup, with variation of some atribute of a ligand, the elements then become **protein(s)**, **ligand(s)** and ligand **parameter(s)**. \n",
    "\n",
    "*Note:* Other parameters can be coded."
   ]
  },
  {
   "cell_type": "code",
   "execution_count": 2,
   "metadata": {},
   "outputs": [
    {
     "name": "stdout",
     "output_type": "stream",
     "text": [
      "Elements: [['calb'], ['MeOH'], ['50mM', '150mM', '300mM', '600mM', '1M', '2.5M', '5.5M'], ['1', '2', '3', '4', '5', '6', '7', '8', '9', '10']]\n"
     ]
    }
   ],
   "source": [
    "workdir=base_path+'proLig_CalB-Methanol'\n",
    "results=workdir+\"/project_results\"\n",
    "\n",
    "#Check for project folders and creates them if not found)\n",
    "tools.Functions.fileHandler([workdir, results], confirmation=False)\n",
    "\n",
    "protein=['calb']\n",
    "ligand=['MeOH']\n",
    "parameters=['50mM', '150mM', '300mM', '600mM', '1M', '2.5M', '5.5M']\n",
    "\n",
    "            \n",
    "            \n",
    "project=main.Project(title='CalB-Methanolysis', hierarchy=('protein', 'ligand', 'parameter'), workdir=workdir, \n",
    "                     parameter=parameters, replicas=10, timestep=5,\n",
    "                     protein=protein, ligand=ligand, results=results)\n",
    "\n",
    "\n",
    "project_systems=project.setSystems()"
   ]
  },
  {
   "cell_type": "markdown",
   "metadata": {},
   "source": [
    "## **Featurization**\n",
    "\n",
    "\n",
    "Trajectories first need to be featurized with the ***Featurized*** module. Two methods are available and both are based strictly on distance metrics (angles, dihedrals, others can be coded):\n",
    "\n",
    "1. **distance** \n",
    "2. $d_{NAC}$ (**nac**).\n",
    "\n",
    "Both methods accept an arbitrary number of **distances** and outputs a dataframe that can be used for discretization.\n",
    "\n",
    "The **nac** method monitors all pairwise protein-methanol distances ($d_{NAC}$) throughout simulated time. It is based on the *Near Attack Conformation* concept, applied to describe catalytic reactions.\n",
    "\n",
    "The selected protein-substrate atom pairs are: \n",
    "1. Acetyl carbon of Ser105 (SEA, index 1526) and hydroxyl oxygen of methanol (OA).\n",
    "2. Imidazole nitrogen from His224 (NE2, resid 224) and hydroxyl hydrogen of methanol (HO).\n",
    "\n",
    "<img src=\"dNAC_scheme_2D.png\" alt=\"Drawing\" style=\"width: 300px;\" align=\"center\"/>"
   ]
  },
  {
   "cell_type": "code",
   "execution_count": null,
   "metadata": {
    "scrolled": true
   },
   "outputs": [
    {
     "name": "stdout",
     "output_type": "stream",
     "text": [
      "Performing <function Featurize.nac_calculation at 0x7f822077b560> tasks for 70 elements on 14 logical cores\n",
      "\tDistance 1: (40000, 1, 1), (3.932, 3.932) (0.0 s)\tDistance 1: (40000, 1, 1), (3.857, 3.857) (0.0 s)\tDistance 1: (40000, 1, 1), (4.007, 4.007) (0.0 s)\tDistance 1: (40000, 1, 1), (3.712, 3.712) (0.0 s)\tDistance 1: (40000, 1, 1), (3.988, 3.988) (0.0 s)\tDistance 1: (40000, 1, 1), (3.715, 3.715) (0.0 s)\tDistance 1: (40000, 1, 1), (3.621, 3.621) (0.0 s)\tDistance 1: (40000, 1, 1), (3.769, 3.769) (0.01 s)\n",
      "\tDistance 1: (40000, 1, 1), (3.824, 3.824) (0.01 s)\tDistance 1: (40000, 1, 1), (3.866, 3.866) (0.01 s)\n",
      "\tDistance 1: (40000, 1, 1), (3.966, 3.966) (0.01 s)\n",
      "\n",
      "\tDistance 1: (40000, 1, 1), (3.741, 3.741) (0.01 s)\n",
      "\n",
      "\n",
      "\tDistance 1: (40000, 1, 1), (3.909, 3.909) (0.01 s)\n",
      "\tDistance 1: (40000, 1, 1), (3.674, 3.674) (0.01 s)Calculating d_NAC of calb-MeOH-50mM-7Calculating d_NAC of calb-MeOH-150mM-1Calculating d_NAC of calb-MeOH-50mM-5Calculating d_NAC of calb-MeOH-300mM-1Calculating d_NAC of calb-MeOH-50mM-9\n",
      "\n",
      "\n",
      "Calculating d_NAC of calb-MeOH-150mM-9Calculating d_NAC of calb-MeOH-50mM-1Calculating d_NAC of calb-MeOH-150mM-3\n",
      "\n",
      "\n",
      "\n",
      "Calculating d_NAC of calb-MeOH-150mM-5\n",
      "\n",
      "Calculating d_NAC of calb-MeOH-300mM-3Calculating d_NAC of calb-MeOH-150mM-7\n",
      "\n",
      "Calculating d_NAC of calb-MeOH-300mM-5\n",
      "\n",
      "Calculating d_NAC of calb-MeOH-300mM-7Calculating d_NAC of calb-MeOH-50mM-3\n",
      "\n",
      "\n",
      "\n",
      "\n",
      "\n",
      "calb-MeOH-50mM-7 \n",
      "\tNumber of frames: 40000\n",
      "\tSelections: 1\n",
      "\tReferences: 1\n",
      "\t3.712, 3.712\n",
      "calb-MeOH-50mM-5 \n",
      "\tNumber of frames: 40000\n",
      "\tSelections: 1\n",
      "\tReferences: 1\n",
      "\t3.988, 3.988\n",
      "calb-MeOH-150mM-9 \n",
      "\tNumber of frames: 40000\n",
      "\tSelections: 1\n",
      "\tReferences: 1\n",
      "\t3.824, 3.824\n",
      "calb-MeOH-50mM-1 \n",
      "\tNumber of frames: 40000\n",
      "\tSelections: 1\n",
      "\tReferences: 1\n",
      "\t3.932, 3.932\n",
      "calb-MeOH-150mM-1 \n",
      "\tNumber of frames: 40000\n",
      "\tSelections: 1\n",
      "\tReferences: 1\n",
      "\t3.715, 3.715\n",
      "calb-MeOH-300mM-1 \n",
      "\tNumber of frames: 40000\n",
      "\tSelections: 1\n",
      "\tReferences: 1\n",
      "\t3.857, 3.857\n",
      "calb-MeOH-50mM-9 \n",
      "\tNumber of frames: 40000\n",
      "\tSelections: 1\n",
      "\tReferences: 1\n",
      "\t4.007, 4.007\n",
      "calb-MeOH-300mM-5 \n",
      "\tNumber of frames: 40000\n",
      "\tSelections: 1\n",
      "\tReferences: 1\n",
      "\t3.674, 3.674\n",
      "calb-MeOH-150mM-3 \n",
      "\tNumber of frames: 40000\n",
      "\tSelections: 1\n",
      "\tReferences: 1\n",
      "\t3.769, 3.769\n",
      "calb-MeOH-300mM-3 \n",
      "\tNumber of frames: 40000\n",
      "\tSelections: 1\n",
      "\tReferences: 1\n",
      "\t3.741, 3.741\n",
      "calb-MeOH-150mM-5 \n",
      "\tNumber of frames: 40000\n",
      "\tSelections: 1\n",
      "\tReferences: 1\n",
      "\t3.866, 3.866\n",
      "calb-MeOH-150mM-7 \n",
      "\tNumber of frames: 40000\n",
      "\tSelections: 1\n",
      "\tReferences: 1\n",
      "\t3.621, 3.621\n",
      "calb-MeOH-300mM-7 \n",
      "\tNumber of frames: 40000\n",
      "\tSelections: 1\n",
      "\tReferences: 1\n",
      "\t3.909, 3.909\n",
      "calb-MeOH-50mM-3 \n",
      "\tNumber of frames: 40000\n",
      "\tSelections: 1\n",
      "\tReferences: 1\n",
      "\t3.966, 3.966Distance 1 not found for calb-MeOH-300mM-6. Reading trajectory...Distance 1 not found for calb-MeOH-150mM-2. Reading trajectory...Distance 1 not found for calb-MeOH-150mM-6. Reading trajectory...Distance 1 not found for calb-MeOH-300mM-2. Reading trajectory...Distance 1 not found for calb-MeOH-50mM-10. Reading trajectory...Distance 1 not found for calb-MeOH-50mM-8. Reading trajectory...Distance 1 not found for calb-MeOH-150mM-10. Reading trajectory...Distance 1 not found for calb-MeOH-50mM-2. Reading trajectory...\n",
      "\n",
      "Distance 1 not found for calb-MeOH-50mM-6. Reading trajectory...\n",
      "\n",
      "Distance 1 not found for calb-MeOH-150mM-4. Reading trajectory...\n",
      "Distance 1 not found for calb-MeOH-300mM-4. Reading trajectory...\n",
      "\n",
      "\n",
      "\n",
      "\n"
     ]
    }
   ],
   "source": [
    "importlib.reload(main)\n",
    "importlib.reload(Featurize)\n",
    "\n",
    "\n",
    "featurized={}\n",
    "\n",
    "#distances=[('name OA', 'index 1526'), \n",
    "#      ('resname MeOH and name HO', 'resid 224 and name NE2')]\n",
    "\n",
    "distances=[('index 1526', 'resid 224 and name NE2')]\n",
    "\n",
    "#features['distance1']=main.Featurize(project_systems, results=results).distance(distances[0], processes=12)\n",
    "\n",
    "featurized['dNAC']=main.Featurize(project_systems, results=results).nac(distances, feature_name='dNAC', n_cores=14)"
   ]
  },
  {
   "cell_type": "markdown",
   "metadata": {},
   "source": [
    "## **Discretization**\n",
    "\n",
    "The *features* are discretized using the *Discretize* module. Two discretization schemes are currently available, **Uniform spherical shell discretization** and **Combinatorial user-defined spherical shell discretization**.\n",
    "The *Discretize* object stores an internal copy of the provided feature **data** (DataFrame) and **feature name** (optional) to avoid passing project_system calls. Therefore, the module can take an externally-generated DataFrame, so long as the index information is consistent with the module operation."
   ]
  },
  {
   "cell_type": "code",
   "execution_count": null,
   "metadata": {},
   "outputs": [],
   "source": [
    "importlib.reload(main)\n",
    "importlib.reload(Discretize)\n",
    "importlib.reload(tools)\n",
    "\n",
    "discretized_features={}\n",
    "\n",
    "for name, data in featurized.items():\n",
    "    discretized_features[name]=main.Discretize(data, feature_name=name, results=results)"
   ]
  },
  {
   "cell_type": "markdown",
   "metadata": {},
   "source": [
    "#### **Uniform spherical shell discretization**\n",
    "\n",
    "Discretization based in spherical shells generates spherical shells along a *feature* coordinate (*i.e.* if 1D).\n",
    "The module takes as input the **thickness** of the spherical shells and the **limits** of shell edges. Discretization can also be made for different subsets of the original *feature* DataFrame, by providing the controls of the **start**, **stop** and **stride** parameters.\n",
    "\n",
    "Returns a *shell profile* DataFrame, containing the sampled frequency for each spherical shell (index) and for each feature.\n",
    "\n",
    "**Note:** Subset time requires the user to check what are the frames present in the *discretized* (original *featurized*) DataFrames."
   ]
  },
  {
   "cell_type": "code",
   "execution_count": null,
   "metadata": {},
   "outputs": [],
   "source": [
    "thickness=0.5\n",
    "limits=(0,150)\n",
    "\n",
    "shell_profiles={}\n",
    "\n",
    "stride=1\n",
    "stride=1\n",
    "#times={'mini':(0,10), \n",
    "#       '2nd_half':(20000,40000), \n",
    "#       '1st_half':(0,20000), \n",
    "#       'full':(0,40000), \n",
    "#       'middle': (10000, 30000)}\n",
    "\n",
    "times={'2nd_half':(20000,40000)}\n",
    "\n",
    "\n",
    "for name, data in discretized_features.items():\n",
    "    print(name)\n",
    "    for time, values in times.items():\n",
    "        (start_t, stop_t)=values\n",
    "        shell_profiles[f'{name}-{time}']=data.shell_profile(thickness=thickness, \n",
    "                                                start=start_t, \n",
    "                                                stop=stop_t,\n",
    "                                                stride=stride,\n",
    "                                                limits=limits, \n",
    "                                                n_cores=14)\n",
    "shell_profiles"
   ]
  },
  {
   "cell_type": "markdown",
   "metadata": {},
   "source": [
    "#### **Combinatorial user-defined spherical shell discretization**\n",
    "\n",
    "Discretize, for each frame, which combinations of shells are occupied by all ligands in the system (one state per frame)\n",
    "\n",
    "The concept of regions is applied to the 1D $d_{NAC}$ reaction coordinate, whereby a region is defined as a *spherical shell* along the $d_{NAC}$ radius\n",
    "\n",
    "Set the shell boundaries (limits, thickness). The minimum (0) and maximum (max) value are implicit.\n",
    "\n",
    "E.g.: shells (4.5, 10, 12, 24) corresponds to: \n",
    "1. shell [0, 4.5[ (A)\n",
    "2. shell [4.5, 10[ (P)\n",
    "3. shell [10, 12[ (E)\n",
    "4. shell [10, 24[ (S)\n",
    "5. shell [24, max[ (B)\n",
    "\n",
    "\n",
    "Labels *labels* of each region are optional but recommended (otherwise reverts to numerical). Number of *labels* is plus one the number of defined *regions*."
   ]
  },
  {
   "cell_type": "code",
   "execution_count": null,
   "metadata": {},
   "outputs": [],
   "source": [
    "\n",
    "importlib.reload(main)\n",
    "shells=[4.5, 10, 12, 24]\n",
    "labels=['A', 'P', 'E', 'S', 'B'] \n",
    "\n",
    "combinatorial={}\n",
    "\n",
    "for name, data in discretized.items():\n",
    "    combinatorial[name]=data.combinatorial(shells, labels=labels)\n",
    "\n",
    "    print(combinatorial[name])\n",
    "\n",
    "    discretized[name].plot(combinatorial[name])\n",
    "    #TODO: remove self reference"
   ]
  },
  {
   "cell_type": "markdown",
   "metadata": {},
   "source": [
    "#### **Binding free energy profile**\n",
    "\n",
    "Represent the feaurization as a binding free energy profile (**$\\Delta$G**). Options to describe the profile are *mean*, *quantile*."
   ]
  },
  {
   "cell_type": "code",
   "execution_count": null,
   "metadata": {
    "scrolled": true
   },
   "outputs": [],
   "source": [
    "importlib.reload(main)\n",
    "importlib.reload(tools)\n",
    "importlib.reload(Discretize)\n",
    "descriptors=('mean','quantile')\n",
    "dG={}\n",
    "bulk=(30,41)\n",
    "\n",
    "#For quantile control\n",
    "quantiles=[0.1, 0.25, 0.5, 0.75, 0.90, 0.95, 0.99, 0.999]\n",
    "\n",
    "for name, profile in shell_profiles.items():\n",
    "    print(name)\n",
    "    for descriptor in descriptors:\n",
    "        dG[f'{name}-{descriptor}']=main.Discretize.dG_calculation(profile, describe=descriptor,\n",
    "                                             bulk=bulk,\n",
    "                                             level=2,\n",
    "                                             feature_name=name, \n",
    "                                             mol=ligand,\n",
    "                                             quantiles=quantiles,\n",
    "                                             results=results)\n",
    "    "
   ]
  },
  {
   "cell_type": "markdown",
   "metadata": {},
   "source": [
    "## **Markov State Models**\n",
    "\n",
    "The *discretized* objects are used for MSM generation using the ***MSM*** module.\n",
    "Each MSM is identified by the corresponding discretization *scheme*, the *feature* and *parameter* as a key of *msm_dict*. The corresponding values themselves a dictionary holding the calculated properties of the MSM. The instance of *classes.MSM* is *instance*.\n"
   ]
  },
  {
   "cell_type": "code",
   "execution_count": null,
   "metadata": {
    "scrolled": true
   },
   "outputs": [],
   "source": [
    "msms={}\n",
    "\n",
    "for name, data in disc.items():\n",
    "            msms[name]=main.MSM(data, feature_name=feature_name, feature_name, results=results)\n",
    "            \n"
   ]
  },
  {
   "cell_type": "markdown",
   "metadata": {},
   "source": [
    "**Implied Time Scales**\n",
    "\n",
    "Calculate the Implied Time Scales for each MSM object using the *ITS* function. This function uses the pyEMMA function (pyemma.msm.its). The default array of lags can be used by pyEMMA, but here the values are provided by *lags*.\n",
    "\n",
    "The function checks for previously calculated ITS plots by checking the presence of the corresponding *png* file in the *results* folder. \n",
    "\n",
    "The file path to the generated ITS image is stored in the *msm_dict* (2nd position)"
   ]
  },
  {
   "cell_type": "code",
   "execution_count": null,
   "metadata": {
    "scrolled": true
   },
   "outputs": [],
   "source": [
    "lags=[1, 2, 5, 10, 20, 40, 100, 500, 1000, 2000, 5000]\n",
    "\n",
    "for name, model in msm_dict.items():\n",
    "    model['its']=model['instance'].ITS(lags)\n",
    "            "
   ]
  },
  {
   "cell_type": "markdown",
   "metadata": {},
   "source": [
    "**Bayesian MSM**\n",
    "Calculation of Bayesian MSM is made here. A lag time must be defined for each discretization *scheme-feature-parameter* combination."
   ]
  },
  {
   "cell_type": "code",
   "execution_count": null,
   "metadata": {},
   "outputs": [],
   "source": [
    "importlib.reload(base)\n",
    "lag={}\n",
    "\n",
    "minimum={}\n",
    "minimum['nac']={'50mM':500, '150mM':1000, '300mM':1000, '600mM':2000, '1M':1000, '2.5M':2000, '5.5M':2000}\n",
    "minimum['dist']={'50mM':1000, '150mM':1000, '300mM':2000, '600mM':2000, '1M':2000, '2.5M':2000, '5.5M':2000}\n",
    "lag['minimum']=minimum\n",
    "\n",
    "single={}\n",
    "single['nac']={'50mM':None, '150mM':None, '300mM':None, '600mM':None, '1M':200, '2.5M':None, '5.5M':2000}\n",
    "single['dist']={'50mM':None, '150mM':None, '300mM':None, '600mM':None, '1M':1000, '2.5M':None, '5.5M':None}\n",
    "lag['single']=single\n",
    "\n",
    "combinatorial={}\n",
    "combinatorial['nac']={'50mM':200, '150mM':2000, '300mM':1000, '600mM':5000, '1M':2000, '2.5M':2000, '5.5M':2000}\n",
    "combinatorial['dist']={'50mM':200, '150mM':200, '300mM':200, '600mM':500, '1M':500, '2.5M':1000, '5.5M':1000}\n",
    "lag['combinatorial']=combinatorial\n",
    "\n",
    "for name, model in msm_dict.items():\n",
    "    print(name)\n",
    "    model['bayesMSM']=model['instance'].bayesMSM(lag)"
   ]
  },
  {
   "cell_type": "markdown",
   "metadata": {},
   "source": [
    "**Stationary Distribution**\n",
    "\n",
    "Stationary distribution is calculated for each available model. Model instance accessed by *model(2)*"
   ]
  },
  {
   "cell_type": "code",
   "execution_count": null,
   "metadata": {
    "scrolled": true
   },
   "outputs": [],
   "source": [
    "pi=pd.DataFrame()\n",
    "\n",
    "for name, model in msm_dict.items():\n",
    "    print(name)\n",
    "    pi_model=model['instance'].stationaryDistribution(model['bayesMSM'])\n",
    "    pi=pd.concat([pi, pi_model], axis=1)\n",
    "\n",
    "pi.to_csv(f'{results}/stationary_distributions.csv')\n",
    "\n",
    "for scheme, v in disc.items():\n",
    "    for feature in v.keys(): \n",
    "        if scheme == 'combinatorial':\n",
    "            statdist_df=pi.xs((scheme, feature), axis=1).dropna(how='all')\n",
    "            statdist_df.plot(kind='bar')\n",
    "            label_names=base.Functions.sampledStateLabels(regions, sampled_states=statdist_df.index.values, labels=labels)\n",
    "            positions=np.arange(0, len(label_names))\n",
    "            plt.xticks(positions, label_names, rotation=70)\n",
    "            plt.xlabel('Combinatorial States')\n",
    "        else:\n",
    "            pi.xs((scheme, feature), axis=1).plot(linestyle='-', marker='o') #kind='bar', stacked=True)\n",
    "            plt.xlabel('State Index')\n",
    "        plt.yscale('log')\n",
    "        plt.ylabel('Stationary Distribution')\n",
    "        plt.title(f'Discretization: {scheme}\\nFeature: {feature}')\n",
    "        plt.savefig(f'{results}/stationary_distribution-{scheme}-{feature}.png', bbox_inches='tight', dpi=600)\n",
    "        plt.show()"
   ]
  },
  {
   "cell_type": "markdown",
   "metadata": {},
   "source": [
    "**Flux**\n",
    "\n",
    "Calculate the flux between set of source states *A_source* and set of sink states *B_sink*. "
   ]
  },
  {
   "cell_type": "code",
   "execution_count": null,
   "metadata": {
    "scrolled": true
   },
   "outputs": [],
   "source": [
    "importlib.reload(base)\n",
    "importlib.reload(plots)\n",
    "\n",
    "flux_df=pd.DataFrame()\n",
    "committor_df=pd.DataFrame()\n",
    "pathway_df=pd.DataFrame()\n",
    "\n",
    "for name,model in msm_dict.items():\n",
    "    flux_model, committor_model, pathway_model=base.MSM.flux(name, model['bayesMSM'], parameter_scalar=parameter_scalar, \n",
    "                                regions=regions, labels=labels, \n",
    "                                A_source=['B', 'SB', 'ESB'],\n",
    "                                B_sink=['AB', 'ASB', 'AEB', 'AESB', 'APB', 'APSB', 'APEB', 'APESB'],\n",
    "                                top_pathways=3)\n",
    "        \n",
    "    flux_df=pd.concat([flux_df, flux_model], axis=0)\n",
    "    committor_df=pd.concat([committor_df, committor_model], axis=0)\n",
    "    pathway_df=pd.concat([pathway_df, pathway_model], axis=0)\n",
    "\n",
    "    \n",
    "plots.plot_pathways(pathway_df, ligand, results)\n",
    "plots.plot_flux(flux_df, ligand, results)\n",
    "plots.plot_committor(committor_df, ligand, results, regions, labels)\n",
    "\n",
    "\n",
    "pathway_df.to_csv(f'{results}/pathways.csv')\n",
    "flux_df.to_csv(f'{results}/net_fluxes.csv') \n",
    "committor_df.to_csv(f'{results}/committors.csv')\n",
    "\n",
    "\n",
    "\n"
   ]
  },
  {
   "cell_type": "markdown",
   "metadata": {},
   "source": [
    "**Mean First Passage Times**\n",
    "\n",
    "Calculate the MFPTs between all states.\n",
    "\n",
    "k$_{on}$=1/MFPTxC, where C is concentration in Molar \\\n",
    "k$_{off}$=1/MFPT\n",
    "\n",
    "\n",
    "Stores the resutls in the *mfpt* dataframe\n",
    "\n",
    "**Warning**: This step takes a long time to perform. The following cell loads a pre-calculated *mfpt* dataframe."
   ]
  },
  {
   "cell_type": "code",
   "execution_count": null,
   "metadata": {},
   "outputs": [],
   "source": [
    "importlib.reload(base)\n",
    "mfpt_df=pd.DataFrame()\n",
    "\n",
    "for name, model in msm_dict.items():\n",
    "    print(name)\n",
    "    mfpt=model['instance'].MFPT(model['bayesMSM'])\n",
    "    mfpt_df=pd.concat([mfpt_df, mfpt], axis=0)\n",
    "\n",
    "mfpt_df.to_csv(f'{results}/mfpt.csv')\n",
    "\n"
   ]
  },
  {
   "cell_type": "code",
   "execution_count": null,
   "metadata": {},
   "outputs": [],
   "source": [
    "importlib.reload(base)\n",
    "importlib.reload(plots)\n",
    "\n",
    "mfpt_df=pd.read_csv(f'{results}/mfpt.csv', index_col=[0,1,2], header=[0,1,2])\n",
    "\n",
    "schemes=mfpt_df.index.unique(level='Scheme')\n",
    "features=mfpt_df.index.unique(level='feature')\n",
    "states=mfpt_df.index.unique(level='state_source')\n",
    "parameters=mfpt_df.columns.get_level_values(level='parameter').unique()\n",
    "\n",
    "error=0.2\n",
    "\n",
    "for scheme in schemes:\n",
    "    print('Scheme: ', scheme)\n",
    "    for feature in features:\n",
    "        print('Feature: ', feature)\n",
    "        plots.plot_MFPT(mfpt_df, scheme, feature, concentrations, error=error, labels=labels, regions=regions)\n",
    "        plt.savefig(f'{results}/mfpt_{scheme}-{feature}-{error}.png', bbox_inches='tight', dpi=600)\n",
    "        plt.show()\n"
   ]
  },
  {
   "cell_type": "markdown",
   "metadata": {},
   "source": [
    "## **Trajectory operations**\n",
    "\n",
    "Initiate the trajectory object, which will be used to make further actions."
   ]
  },
  {
   "cell_type": "code",
   "execution_count": null,
   "metadata": {},
   "outputs": [],
   "source": [
    "importlib.reload(main)\n",
    "importlib.reload(Trajectory)\n",
    "importlib.reload(tools)\n",
    "trajectories=main.Trajectory.Trajectory(project_systems, results=results)"
   ]
  },
  {
   "cell_type": "markdown",
   "metadata": {},
   "source": [
    "### **Extract state frames**\n",
    "\n",
    "Define the frames belonging to a set of states across all *trajectories*. A dataframe of discretized trajectories must be given. "
   ]
  },
  {
   "cell_type": "code",
   "execution_count": null,
   "metadata": {},
   "outputs": [],
   "source": [
    "\n",
    "#stateLabels=['SB', 'ESB', 'PB', 'PSB', 'PEB', 'PESB', 'AB', 'ASB', 'AEB', 'AESB', 'APSB', 'APESB']\n",
    "#states=[3, 7, 9, 11, 13, 15, 17, 19, 21, 23, 25, 27, 31]\n",
    "\n",
    "#stateLabels=['SB', 'ESB', 'PB', 'PSB', 'PESB', 'AB', 'ASB', 'APSB', 'APESB']\n",
    "#states=[3,7,9,11,15,17,19,27,31]\n",
    "\n",
    "stateLabels=['PSB']\n",
    "states=[11]\n",
    "\n",
    "extracted_frames=trajectories.extractFrames_by_iterable(combinatorial, iterable=states, feature='nac')"
   ]
  },
  {
   "cell_type": "markdown",
   "metadata": {},
   "source": [
    "## Density Maps\n",
    "\n",
    "NOTE: Compute intensive, using previously stored files."
   ]
  },
  {
   "cell_type": "code",
   "execution_count": null,
   "metadata": {
    "scrolled": true
   },
   "outputs": [],
   "source": [
    "full_densities=trajectories.DensityMap_fullTraj(level=2, filtered=True, stride=5)"
   ]
  },
  {
   "cell_type": "code",
   "execution_count": null,
   "metadata": {},
   "outputs": [],
   "source": [
    "full_densities"
   ]
  },
  {
   "cell_type": "code",
   "execution_count": null,
   "metadata": {
    "scrolled": true
   },
   "outputs": [],
   "source": [
    "#of extracted frames\n",
    "densities, stats=trajectories.DensityMap_frames(frames=extracted_frames, level=2, dists=[('resid 290 and name NZ', 'resid 145 and name OD1')])"
   ]
  }
 ],
 "metadata": {
  "kernelspec": {
   "display_name": "Python 3",
   "language": "python",
   "name": "python3"
  },
  "language_info": {
   "codemirror_mode": {
    "name": "ipython",
    "version": 3
   },
   "file_extension": ".py",
   "mimetype": "text/x-python",
   "name": "python",
   "nbconvert_exporter": "python",
   "pygments_lexer": "ipython3",
   "version": "3.8.3"
  }
 },
 "nbformat": 4,
 "nbformat_minor": 4
}
